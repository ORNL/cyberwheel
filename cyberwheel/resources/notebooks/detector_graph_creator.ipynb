{
 "cells": [
  {
   "cell_type": "markdown",
   "metadata": {},
   "source": [
    "# Detector Graph Creator\n",
    "A notebook to help create detector graphs."
   ]
  },
  {
   "cell_type": "code",
   "execution_count": 1,
   "metadata": {},
   "outputs": [],
   "source": [
    "import yaml"
   ]
  },
  {
   "cell_type": "code",
   "execution_count": 2,
   "metadata": {},
   "outputs": [],
   "source": [
    "class DetectorInfo:\n",
    "    def __init__(self, module: str, class_: str, config: str = None) -> None:\n",
    "        self.module = module\n",
    "        self.class_ = class_\n",
    "        self.config = config\n",
    "\n",
    "class DetectorGraphCreator:\n",
    "    def __init__(self) -> None:\n",
    "        self.adjacency_list: dict[str, list[str]] = {}\n",
    "        self.init_info =  {}\n",
    "    \n",
    "    def add_detectors(self, parent: str, node: str | list[str], detector: DetectorInfo = None) -> None:\n",
    "        if node == \"start\":\n",
    "            raise KeyError(f\"'start' is reserved for parent nodes only\")\n",
    "        if parent == \"end\":\n",
    "            raise KeyError(f\"'end' cannot be a parent node\")\n",
    "\n",
    "        if parent not in self.adjacency_list:\n",
    "            self.adjacency_list[parent] = [parent]\n",
    "    \n",
    "        if isinstance(node, list):\n",
    "            for n in node:\n",
    "                if n in self.adjacency_list[parent]:\n",
    "                    raise KeyError(f\"node {n} is already in {parent}'s adjacency list\")\n",
    "                self.adjacency_list[parent].append(n)\n",
    "                self.add_init_info(n, detector)\n",
    "        else:\n",
    "            if node in self.adjacency_list[parent]:\n",
    "                raise KeyError(f\"node {node} is already in {parent}'s adjacency list\")\n",
    "            self.adjacency_list[parent].append(node)\n",
    "            self.add_init_info(node, detector)\n",
    "\n",
    "    def add_starting_detector(self, node: str, detector: DetectorInfo = None) -> None:\n",
    "        self.add_detectors(\"start\", node, detector)\n",
    "\n",
    "    def add_ending_detector(self, parent: str, detector: DetectorInfo = None) -> None:\n",
    "        self.add_detectors(parent, \"end\", detector)\n",
    "\n",
    "    def to_yaml(self, path: str) -> None:\n",
    "        contents = {\"adjacency_list\": list(self.adjacency_list.values()), \"init_info\": self.init_info}\n",
    "        with open(path, \"w\") as w:\n",
    "            yaml.safe_dump(contents, w)\n",
    "\n",
    "    def add_init_info(self, node: str, detector: DetectorInfo) -> None:\n",
    "        if node in self.init_info or node == 'end':\n",
    "            return\n",
    "        elif detector is None:\n",
    "            raise ValueError(f\"first occurance of {node} requires detector info.\")\n",
    "\n",
    "        self.init_info[node] = {}\n",
    "        self.init_info[node][\"module\"] = detector.module\n",
    "        self.init_info[node][\"class\"] = detector.class_\n",
    "        self.init_info[node][\"config\"] = detector.config"
   ]
  },
  {
   "cell_type": "code",
   "execution_count": 7,
   "metadata": {},
   "outputs": [
    {
     "name": "stdout",
     "output_type": "stream",
     "text": [
      "{'start': ['start', 'd1'], 'd1': ['d1', 'd3'], 'd3': ['d3', 'd4'], 'd4': ['d4', 'end']}\n",
      "{'d1': {'module': 'example_detectors', 'class': 'PerfectDetector', 'config': None}, 'd3': {'module': 'example_detectors', 'class': 'PerfectDetector', 'config': None}, 'd4': {'module': 'example_detectors', 'class': 'PerfectDetector', 'config': None}}\n"
     ]
    }
   ],
   "source": [
    "dgc = DetectorGraphCreator()\n",
    "perfect_detector_info = DetectorInfo(\"example_detectors\", \"PerfectDetector\")\n",
    "\n",
    "dgc.add_starting_detector(\"d1\", perfect_detector_info)\n",
    "dgc.add_detectors(\"d1\", [\"d2\", \"d3\"], perfect_detector_info)\n",
    "dgc.add_detectors(\"d3\", \"d4\", perfect_detector_info)\n",
    "dgc.add_detectors(\"d4\", \"d2\", perfect_detector_info)\n",
    "dgc.add_ending_detector(\"d2\", perfect_detector_info)\n",
    "\n",
    "print(dgc.adjacency_list)\n",
    "print(dgc.init_info)\n",
    "\n",
    "dgc.to_yaml(\"/home/70d/cyberwheel/cyberwheel/resources/configs/detector_handler.yaml\")"
   ]
  }
 ],
 "metadata": {
  "kernelspec": {
   "display_name": "cyberwheel-30r_4TKc-py3.10",
   "language": "python",
   "name": "python3"
  },
  "language_info": {
   "codemirror_mode": {
    "name": "ipython",
    "version": 3
   },
   "file_extension": ".py",
   "mimetype": "text/x-python",
   "name": "python",
   "nbconvert_exporter": "python",
   "pygments_lexer": "ipython3",
   "version": "3.10.14"
  }
 },
 "nbformat": 4,
 "nbformat_minor": 2
}
