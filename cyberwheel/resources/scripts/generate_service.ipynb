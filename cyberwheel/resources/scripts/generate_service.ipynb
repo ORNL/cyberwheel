{
 "cells": [
  {
   "cell_type": "code",
   "execution_count": 16,
   "metadata": {},
   "outputs": [],
   "source": [
    "import json\n",
    "import cyberwheel.red_actions.art_techniques\n",
    "from cyberwheel.red_actions.actions.art_killchain_phases import *\n",
    "import random"
   ]
  },
  {
   "cell_type": "code",
   "execution_count": 22,
   "metadata": {},
   "outputs": [],
   "source": [
    "os_kcp_cves = {}\n",
    "with open('/Users/67x/cyberwheel/cyberwheel/resources/metadata/os_kcp_cve_mapping.json', 'r') as f:\n",
    "    os_kcp_cves = json.load(f)"
   ]
  },
  {
   "cell_type": "code",
   "execution_count": 24,
   "metadata": {},
   "outputs": [],
   "source": [
    "target_os = \"windows\"\n",
    "kcps = [\"discovery\", \"lateral-movement\", \"privilege-escalation\", \"impact\"]"
   ]
  },
  {
   "cell_type": "code",
   "execution_count": 25,
   "metadata": {},
   "outputs": [],
   "source": [
    "exploitable_services = {\n",
    "    \"DiscoveryExploitableService\": [],\n",
    "    \"LateralMovementExploitableService\": [],\n",
    "    \"PrivilegeEscalationExploitableService\": [],\n",
    "    \"ImpactExploitableService\": []\n",
    "}"
   ]
  },
  {
   "cell_type": "code",
   "execution_count": 26,
   "metadata": {},
   "outputs": [],
   "source": [
    "for kcp, service in zip(kcps, list(exploitable_services.keys())):\n",
    "    cves = os_kcp_cves[target_os][kcp]\n",
    "    exploitable_services[service] = random.sample(cves, 10)"
   ]
  },
  {
   "cell_type": "code",
   "execution_count": 27,
   "metadata": {},
   "outputs": [
    {
     "data": {
      "text/plain": [
       "{'DiscoveryExploitableService': ['CVE-2023-28325',\n",
       "  'CVE-2021-32526',\n",
       "  'CVE-2020-10048',\n",
       "  'CVE-2023-23696',\n",
       "  'CVE-2023-7079',\n",
       "  'CVE-2016-10651',\n",
       "  'CVE-2019-1899',\n",
       "  'CVE-2022-28651',\n",
       "  'CVE-2020-10049',\n",
       "  'CVE-2014-125055'],\n",
       " 'LateralMovementExploitableService': ['CVE-2021-21329',\n",
       "  'CVE-2018-1106',\n",
       "  'CVE-2019-18246',\n",
       "  'CVE-2020-29032',\n",
       "  'CVE-2022-33689',\n",
       "  'CVE-2020-7817',\n",
       "  'CVE-2019-3798',\n",
       "  'CVE-2021-24148',\n",
       "  'CVE-2018-0195',\n",
       "  'CVE-2007-4961'],\n",
       " 'PrivilegeEscalationExploitableService': ['CVE-2023-29463',\n",
       "  'CVE-2023-4816',\n",
       "  'CVE-2022-21712',\n",
       "  'CVE-2022-32219',\n",
       "  'CVE-2023-21512',\n",
       "  'CVE-2021-27772',\n",
       "  'CVE-2023-1584',\n",
       "  'CVE-2020-25168',\n",
       "  'CVE-2023-33972',\n",
       "  'CVE-2021-43786'],\n",
       " 'ImpactExploitableService': ['CVE-2023-2030',\n",
       "  'CVE-2023-2987',\n",
       "  'CVE-2022-23556',\n",
       "  'CVE-2022-41961',\n",
       "  'CVE-2023-27979',\n",
       "  'CVE-2022-41156',\n",
       "  'CVE-2023-41898',\n",
       "  'CVE-2017-20180',\n",
       "  'CVE-2019-16007',\n",
       "  'CVE-2021-34572']}"
      ]
     },
     "execution_count": 27,
     "metadata": {},
     "output_type": "execute_result"
    }
   ],
   "source": [
    "exploitable_services"
   ]
  },
  {
   "cell_type": "code",
   "execution_count": 29,
   "metadata": {},
   "outputs": [],
   "source": [
    "import yaml"
   ]
  },
  {
   "cell_type": "code",
   "execution_count": 30,
   "metadata": {},
   "outputs": [],
   "source": [
    "with open('/Users/67x/cyberwheel/cyberwheel/resources/configs/windows_exploitable_services.yaml', 'w') as file:\n",
    "        yaml.dump(exploitable_services, file, default_flow_style=False)"
   ]
  },
  {
   "cell_type": "code",
   "execution_count": null,
   "metadata": {},
   "outputs": [],
   "source": []
  }
 ],
 "metadata": {
  "kernelspec": {
   "display_name": "cyberwheel-VGlNBSYZ-py3.10",
   "language": "python",
   "name": "python3"
  },
  "language_info": {
   "codemirror_mode": {
    "name": "ipython",
    "version": 3
   },
   "file_extension": ".py",
   "mimetype": "text/x-python",
   "name": "python",
   "nbconvert_exporter": "python",
   "pygments_lexer": "ipython3",
   "version": "3.10.14"
  }
 },
 "nbformat": 4,
 "nbformat_minor": 2
}
